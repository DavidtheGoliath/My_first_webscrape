{
 "cells": [
  {
   "cell_type": "code",
   "execution_count": 1,
   "metadata": {
    "collapsed": true
   },
   "outputs": [],
   "source": [
    "from bs4 import BeautifulSoup as soup  # HTML data structure\n",
    "from urllib.request import urlopen as uReq  # Web client"
   ]
  },
  {
   "cell_type": "code",
   "execution_count": 2,
   "metadata": {
    "collapsed": true
   },
   "outputs": [],
   "source": [
    "page_url = \"https://www.newegg.com/global/it/Product/ProductList.aspx?Submit=ENE&DEPA=0&Order=BESTMATCH&Description=graphics+card&ignorear=0&N=-1&isNodeId=1\""
   ]
  },
  {
   "cell_type": "code",
   "execution_count": 3,
   "metadata": {
    "collapsed": true
   },
   "outputs": [],
   "source": [
    "uClient = uReq(page_url)"
   ]
  },
  {
   "cell_type": "code",
   "execution_count": 4,
   "metadata": {
    "collapsed": true
   },
   "outputs": [],
   "source": [
    "page_html = uClient.read()"
   ]
  },
  {
   "cell_type": "code",
   "execution_count": 5,
   "metadata": {
    "collapsed": true
   },
   "outputs": [],
   "source": [
    "uClient.close()"
   ]
  },
  {
   "cell_type": "code",
   "execution_count": 6,
   "metadata": {
    "collapsed": true
   },
   "outputs": [],
   "source": [
    "page_soup=soup(page_html, \"html.parser\")"
   ]
  },
  {
   "cell_type": "code",
   "execution_count": 7,
   "metadata": {},
   "outputs": [
    {
     "data": {
      "text/plain": [
       "<h1 class=\"page-title-text\">\"graphics card\"</h1>"
      ]
     },
     "execution_count": 7,
     "metadata": {},
     "output_type": "execute_result"
    }
   ],
   "source": [
    "page_soup.h1"
   ]
  },
  {
   "cell_type": "code",
   "execution_count": 8,
   "metadata": {},
   "outputs": [
    {
     "data": {
      "text/plain": [
       "<p>Newegg.com - A great place to buy computers, computer parts, electronics, software, accessories, and DVDs online. With great prices, fast shipping, and top-rated customer service - Newegg shopping upgraded ™</p>"
      ]
     },
     "execution_count": 8,
     "metadata": {},
     "output_type": "execute_result"
    }
   ],
   "source": [
    "page_soup.p"
   ]
  },
  {
   "cell_type": "code",
   "execution_count": 9,
   "metadata": {},
   "outputs": [
    {
     "data": {
      "text/plain": [
       "<span class=\"noCSS\">Skip to:</span>"
      ]
     },
     "execution_count": 9,
     "metadata": {},
     "output_type": "execute_result"
    }
   ],
   "source": [
    "page_soup.body.span"
   ]
  },
  {
   "cell_type": "code",
   "execution_count": 10,
   "metadata": {
    "collapsed": true
   },
   "outputs": [],
   "source": [
    "containers = page_soup.findAll('div', {'class':'item-container'})"
   ]
  },
  {
   "cell_type": "code",
   "execution_count": 11,
   "metadata": {},
   "outputs": [
    {
     "data": {
      "text/plain": [
       "36"
      ]
     },
     "execution_count": 11,
     "metadata": {},
     "output_type": "execute_result"
    }
   ],
   "source": [
    "len(containers)"
   ]
  },
  {
   "cell_type": "code",
   "execution_count": 12,
   "metadata": {},
   "outputs": [
    {
     "data": {
      "text/plain": [
       "<div class=\"item-container \">\n",
       "<!--product image-->\n",
       "<a class=\"item-img\" href=\"https://www.newegg.com/global/it/Product/Product.aspx?Item=N82E16814500419&amp;cm_re=graphics_card-_-14-500-419-_-Product\">\n",
       "<img alt=\"ZOTAC GeForce GTX 1080 Ti AMP Edition 11GB GDDR5X 352-bit Gaming Graphics Card VR Ready 16+2 Power Phase Freeze Fan Stop IceStorm Cooling Spectra Lighting ZT-P10810D-10P\" src=\"//c1.neweggimages.com/NeweggImage/ProductImageCompressAll300/14-500-419-Z01.jpg\" title=\"ZOTAC GeForce GTX 1080 Ti AMP Edition 11GB GDDR5X 352-bit Gaming Graphics Card VR Ready 16+2 Power Phase Freeze Fan Stop IceStorm Cooling Spectra Lighting ZT-P10810D-10P\"/>\n",
       "</a>\n",
       "<div class=\"item-info\">\n",
       "<!--brand info-->\n",
       "<div class=\"item-branding\">\n",
       "<a class=\"item-brand\" href=\"https://www.newegg.com/global/it/ZOTAC/BrandStore/ID-12150\">\n",
       "<img alt=\"ZOTAC\" src=\"//c1.neweggimages.com/Brandimage_70x28//Brand12150.gif\" title=\"ZOTAC\"/>\n",
       "</a>\n",
       "<!--rating info-->\n",
       "<a class=\"item-rating\" href=\"https://www.newegg.com/global/it/Product/Product.aspx?Item=N82E16814500419&amp;SortField=0&amp;SummaryType=0&amp;PageSize=10&amp;SelectedRating=-1&amp;VideoOnlyMark=False&amp;ignorebbr=1&amp;IsFeedbackTab=true#scrollFullInfo\" title=\"Rating + 4\"><i class=\"rating rating-4\"></i><span class=\"item-rating-num\">(19)</span></a>\n",
       "</div>\n",
       "<!--description info-->\n",
       "<a class=\"item-title\" href=\"https://www.newegg.com/global/it/Product/Product.aspx?Item=N82E16814500419&amp;cm_re=graphics_card-_-14-500-419-_-Product\" title=\"View Details\">ZOTAC GeForce GTX 1080 Ti AMP Edition 11GB GDDR5X 352-bit Gaming Graphics Card VR Ready 16+2 Power Phase Freeze Fan Stop IceStorm Cooling Spectra Lighting ZT-P10810D-10P</a>\n",
       "<!--promption info-->\n",
       "<p class=\"item-promo\"></p>\n",
       "<!--feature-->\n",
       "<ul class=\"item-features\">\n",
       "<li><strong>Core Clock:</strong> 1569 MHz</li><li><strong>DisplayPort:</strong> 3 x DisplayPort 1.4</li><li><strong>DVI:</strong> 1 x DL-DVI-D</li><li><strong>HDMI:</strong> 1 x HDMI 2.0b</li>\n",
       "<li><strong>Model #: </strong>ZT-P10810D-10P</li>\n",
       "<li><strong>Item #: </strong>N82E16814500419</li>\n",
       "<li><strong>Return Policy: </strong><a href=\"https://kb.newegg.com/Article/Index/12/3?id=1167#68074\" target=\"_blank\" title=\"International Order Return Policy(New Window)\">International Order Return Policy</a></li>\n",
       "</ul>\n",
       "<div class=\"item-action\">\n",
       "<!--price-->\n",
       "<ul class=\"price \">\n",
       "<li class=\"price-was\">\n",
       "       €665,99\n",
       "            <span class=\"price-was-data\" style=\"display: none\">665.99</span>\n",
       "</li>\n",
       "<li class=\"price-map\">\n",
       "</li>\n",
       "<li class=\"price-current\">\n",
       "<span class=\"price-current-label\">\n",
       "</span>€<strong>596</strong><sup>,99</sup> <a class=\"price-current-num\" href=\"https://www.newegg.com/global/it/Product/Product.aspx?Item=N82E16814500419&amp;buyingoptions=New\">(3 Offers)</a>\n",
       "<span class=\"price-current-range\">\n",
       "<abbr title=\"to\">–</abbr>\n",
       "</span>\n",
       "</li>\n",
       "<li class=\"price-save \">\n",
       "<span class=\"price-save-endtime price-save-endtime-current\"></span>\n",
       "<span class=\"price-save-endtime price-save-endtime-another\" style=\"display:none;\"></span>\n",
       "<span class=\"price-save-label\">Save: </span>\n",
       "<span class=\"price-save-dollar\"></span>\n",
       "<span class=\"price-save-percent\">10%</span>\n",
       "</li>\n",
       "<li class=\"price-note\">\n",
       "</li>\n",
       "<li class=\"price-ship\">\n",
       "</li>\n",
       "</ul>\n",
       "<!--egg point-->\n",
       "<!--financing-->\n",
       "<!--button-->\n",
       "<div class=\"item-operate \">\n",
       "<div class=\"item-button-area\">\n",
       "<button class=\"btn btn-mini \" onclick=\"Javascript:Biz.ProductList.Item.add('https://www.newegg.com/global/it/Product/Product.aspx?Item=N82E16814500419');\" title=\"View Details\" type=\"button\">View Details <i class=\"fa fa-caret-right\"></i></button>\n",
       "</div>\n",
       "<!--compare-->\n",
       "<div class=\"item-compare-box\">\n",
       "<label class=\"form-checkbox\">\n",
       "<input aria-labelledby=\"checkbox_compare\" autocomplete=\"off\" id=\"CompareItem_14-500-419\" name=\"CompareItem\" neg-itemnumber=\"14-500-419\" type=\"checkbox\" value=\"CompareItem_14-500-419\"/>\n",
       "<span class=\"form-checkbox-title\">Compare</span>\n",
       "</label>\n",
       "</div>\n",
       "<script type=\"text/javascript\">\n",
       "                        Biz.Product.CompareConfig.compareItems.push(\"14-500-419\");\n",
       "                        var itemThumbs = new Object();\n",
       "                        itemThumbs.itemNumber = \"14-500-419\";\n",
       "                        itemThumbs.imageUrl = \"//c1.neweggimages.com/ProductImageCompressAll35/14-500-419-Z01.jpg\";\n",
       "                        Biz.Product.CompareConfig.Thumbs.push(itemThumbs);\n",
       "                    </script>\n",
       "</div>\n",
       "</div>\n",
       "</div>\n",
       "</div>"
      ]
     },
     "execution_count": 12,
     "metadata": {},
     "output_type": "execute_result"
    }
   ],
   "source": [
    "containers[0]"
   ]
  },
  {
   "cell_type": "code",
   "execution_count": 13,
   "metadata": {},
   "outputs": [
    {
     "data": {
      "text/plain": [
       "<a class=\"item-img\" href=\"https://www.newegg.com/global/it/Product/Product.aspx?Item=N82E16814500419&amp;cm_re=graphics_card-_-14-500-419-_-Product\">\n",
       "<img alt=\"ZOTAC GeForce GTX 1080 Ti AMP Edition 11GB GDDR5X 352-bit Gaming Graphics Card VR Ready 16+2 Power Phase Freeze Fan Stop IceStorm Cooling Spectra Lighting ZT-P10810D-10P\" src=\"//c1.neweggimages.com/NeweggImage/ProductImageCompressAll300/14-500-419-Z01.jpg\" title=\"ZOTAC GeForce GTX 1080 Ti AMP Edition 11GB GDDR5X 352-bit Gaming Graphics Card VR Ready 16+2 Power Phase Freeze Fan Stop IceStorm Cooling Spectra Lighting ZT-P10810D-10P\"/>\n",
       "</a>"
      ]
     },
     "execution_count": 13,
     "metadata": {},
     "output_type": "execute_result"
    }
   ],
   "source": [
    "container = containers[0]\n",
    "container.a"
   ]
  },
  {
   "cell_type": "code",
   "execution_count": 17,
   "metadata": {},
   "outputs": [
    {
     "data": {
      "text/plain": [
       "'ZOTAC'"
      ]
     },
     "execution_count": 17,
     "metadata": {},
     "output_type": "execute_result"
    }
   ],
   "source": [
    "container.div.div.a.img['title']"
   ]
  },
  {
   "cell_type": "code",
   "execution_count": 52,
   "metadata": {},
   "outputs": [
    {
     "data": {
      "text/plain": [
       "'\\n'"
      ]
     },
     "execution_count": 52,
     "metadata": {},
     "output_type": "execute_result"
    }
   ],
   "source": [
    "title_container = container.findAll('a',{'class':'item-title'})\n",
    "title_container\n",
    "title_container[0].text\n",
    "shipping_container = container.findAll('li', {'class':'price-ship'})\n",
    "shipping_container[0].text\n",
    "#shipping_container"
   ]
  },
  {
   "cell_type": "code",
   "execution_count": 55,
   "metadata": {},
   "outputs": [
    {
     "data": {
      "text/plain": [
       "0"
      ]
     },
     "execution_count": 55,
     "metadata": {},
     "output_type": "execute_result"
    }
   ],
   "source": [
    "filename = 'products.csv'\n",
    "f = open(filename, 'w')\n",
    "headers = 'brand, product_name, shipping\\n'\n",
    "f.write('')"
   ]
  },
  {
   "cell_type": "code",
   "execution_count": 57,
   "metadata": {},
   "outputs": [
    {
     "name": "stdout",
     "output_type": "stream",
     "text": [
      "brand: ZOTAC\n",
      "product_name: ZOTAC GeForce GTX 1080 Ti AMP Edition 11GB GDDR5X 352-bit Gaming Graphics Card VR Ready 16+2 Power Phase Freeze Fan Stop IceStorm Cooling Spectra Lighting ZT-P10810D-10P\n",
      "shipping: \n",
      "\n",
      "brand: Diamond Multimedia\n",
      "product_name: Diamond Multimedia AMD Radeon 8GB GDDR5 Memory PCI-E Graphics Card\n",
      "shipping: \n",
      "\n",
      "brand: VisionTek\n",
      "product_name: VisionTek Radeon 4350 512MB DDR2 (DVI-I, HDMI, VGA) Graphics Card - 900270\n",
      "shipping: \n",
      "\n",
      "brand: AMD\n",
      "product_name: AMD Radeon RX 580 8GB GDDR5 PCI Express 3.0 Gaming Graphics Card - OEM\n",
      "shipping: \n",
      "\n",
      "brand: AMD\n",
      "product_name: 6 Packs of AMD RADEON RX 580 GRAPHICS CARDS WITH 4GB GDDR5 DEDICTAED MEMORY - OEM\n",
      "shipping: \n",
      "\n",
      "brand: Sapphire Tech\n",
      "product_name: Sapphire 11265-05-20G Radeon PULSE RX 580 8GB GDDR5 DUAL HDMI / DVI-D / DUAL DP OC with Backplate (UEFI) PCI-E Graphics Card Graphic Cards\n",
      "shipping: \n",
      "\n",
      "brand: EVGA\n",
      "product_name: 6 Packs of EVGA - NVIDIA GeForce GTX 1060 6144MB GDDR5 PCI Express 3.0 Graphics Cards - Black (06G-P4-6264-KB)\n",
      "shipping: \n",
      "\n",
      "brand: ASUS\n",
      "product_name: ASUS GeForce GT 710 2GB GDDR5 HDMI VGA DVI Graphics Card (GT710-SL-2GD5-CSM)\n",
      "shipping: \n",
      "\n",
      "brand: MSI\n",
      "product_name: MSI GeForce GT 1030 AERO ITX 2GB GDDR4 Graphics Card\n",
      "shipping: \n",
      "\n",
      "brand: ZOTAC\n",
      "product_name: ZOTAC GeForce GTX 1080 Ti AMP Extreme Core 11GB GDDR5X 352-bit Gaming Graphics Card VR Ready 16+2 Power Phase Freeze Fan Stop IceStorm Cooling Spectra Lighting ZT-P10810F-10P\n",
      "shipping: \n",
      "\n",
      "brand: MSI\n",
      "product_name: MSI R7 240 2GD3 LP Radeon R7 240 Graphic Card - 730 MHz Core - 780 MHz Boost Clock - 2 GB DDR3 SDRAM - Low-profile\n",
      "shipping: \n",
      "\n",
      "brand: MSI\n",
      "product_name: MSI R6450-MD1GD3/LP Radeon HD 6450 Graphic Card - 625 MHz Core - 1 GB DDR3 SDRAM - PCI Express 2.1 x16 - Low-profile - 1333 MHz Memory Clock - 64 bit Bus Width - 2560 x 1600 - CrossFire - Fan Cooler -\n",
      "shipping: \n",
      "\n",
      "brand: ASUS\n",
      "product_name: ASUS ROG Strix Radeon RX 580 O8G Gaming OC Edition GDDR5 DP HDMI DVI VR Ready AMD Graphics Card with RGB Lighting (ROG-STRIX-RX580-O8G-GAMING)\n",
      "shipping: \n",
      "\n",
      "brand: VisionTek\n",
      "product_name: RADEON RX 570 OC 4GB GDDR5 Graphics Card and PCI-E Riser\n",
      "shipping: \n",
      "\n",
      "brand: GIGABYTE\n",
      "product_name: Gigabyte Ultra Durable 2 GV-R523D3-1GL (rev. 2.0) Radeon R5 230 Graphic Card - 625 MHz Core - 1 GB DDR3 SDRAM - PCI Express 2.0 - Low-profile - Single Slot Space Required\n",
      "shipping: \n",
      "\n",
      "brand: VisionTek\n",
      "product_name: Visiontek Radeon R7 240 Graphic Card - 2 GB DDR3 SDRAM - PCI Express 3.0 x8 - HDMIDVI\n",
      "shipping: \n",
      "\n",
      "brand: ASUS\n",
      "product_name: ASUS AMD Radeon R7 250 1GB DDR5 128-Bit DisplayPort HDMI DVI Graphics Card R7250-1GD5-V2\n",
      "shipping: \n",
      "\n",
      "brand: VisionTek\n",
      "product_name: VisionTek Radeon HD 3650 512MB x16 PCIe Graphics Card (900232)\n",
      "shipping: \n",
      "\n",
      "brand: ASUS\n",
      "product_name: ASUS Radeon RX 580 O4G Dual-fan OC Edition GDDR5 DP HDMI DVI VR Ready AMD Graphics Card (DUAL-RX580-O4G)\n",
      "shipping: \n",
      "\n",
      "brand: ASUS\n",
      "product_name: ASUS ROG Strix Radeon RX 570 O4G Gaming OC Edition GDDR5 DP HDMI DVI VR Ready AMD Graphics Card (ROG-STRIX-RX570-O4G-GAMING)\n",
      "shipping: \n",
      "\n",
      "brand: MSI\n",
      "product_name: MSI GT 1030 2G LP OC NVIDIA PCI-E Graphic Card - 64 bit Bus Width - Fan Cooler - DirectX 12, OpenGL 4.5 - 1 x DisplayPort - 1 x HDMI - PC - 2 x Monitors Supported\n",
      "shipping: \n",
      "\n",
      "brand: ASUS\n",
      "product_name: ASUS GeForce GTX 1060 3GB Phoenix Fan Edition VR Ready HDMI DP DVI Graphics Card (PH-GTX1060-3G)\n",
      "shipping: \n",
      "\n",
      "brand: Lenovo\n",
      "product_name: Lenovo Quadro NVS 310 Graphic Card - 1 GB - PCI Express 2.0 - Low-profile\n",
      "shipping: \n",
      "\n",
      "brand: XFX\n",
      "product_name: XFX GTS XXX Edition RX 580 8GB OC+ 1386Mhz DDR5 3xDP HDMI DVI RX-580P8DFD6 Graphics Card and PCI-E Riser for for ETH Etheruem ZEC Zcash XMR Monero Cryptocurrency Mining\n",
      "shipping: \n",
      "\n",
      "brand: ASUS\n",
      "product_name: ASUS Radeon RX 560 4GB EVO OC Edition GDDR5 DP HDMI DVI AMD Graphics Card (RX560-O4G-EVO)\n",
      "shipping: \n",
      "\n",
      "brand: EVGA\n",
      "product_name: EVGA GeForce GTX 1070 GAMING, 8GB GDDR5, DX12 OSD Support, Graphics Cards (08G-P4-5170-KR)\n",
      "shipping: \n",
      "\n",
      "brand: PNY Technologies, Inc.\n",
      "product_name: PNY GeForce GTX 1050 Ti Graphic Card - 1.29 GHz Core - 1.39 GHz Boost Clock - 4 GB GDDR5 - PCI Express 3.0 x16 - Dual Slot Space Required - 128 bit Bus Width - Fan Cooler - OpenGL 4.5, DirectX 12 - 1\n",
      "shipping: \n",
      "\n",
      "brand: Lenovo\n",
      "product_name: Lenovo Quadro P400 Graphic Card - 2 GB GDDR5 - 3 x Mini DisplayPort - PC\n",
      "shipping: \n",
      "\n",
      "brand: Lenovo\n",
      "product_name: Lenovo Quadro P4000 Graphic Card - 8 GB GDDR5 - Full-height (4x60n86664)\n",
      "shipping: \n",
      "\n",
      "brand: ASUS\n",
      "product_name: ASUS GeForce GT 1030 2GB Phoenix Fan OC Edition HDMI DVI Graphics Card (PH-GT1030-O2G)\n",
      "shipping: \n",
      "\n",
      "brand: ZOTAC\n",
      "product_name: ZOTAC GeForce GTX 1080 Ti DirectX 12 ZT-P10810G-10P 11GB 352-Bit GDDR5X PCI Express 3.0 HDCP Ready SLI Support Video Card\n",
      "shipping: \n",
      "\n",
      "brand: ASUS\n",
      "product_name: ASUS GeForce GT 710 1GB GDDR5 HDMI VGA DVI Graphics Card (GT710-SL-1GD5-BRK)\n",
      "shipping: \n",
      "\n"
     ]
    },
    {
     "ename": "AttributeError",
     "evalue": "'NoneType' object has no attribute 'img'",
     "output_type": "error",
     "traceback": [
      "\u001b[1;31m---------------------------------------------------------------------------\u001b[0m",
      "\u001b[1;31mAttributeError\u001b[0m                            Traceback (most recent call last)",
      "\u001b[1;32m<ipython-input-57-4b150ad4f125>\u001b[0m in \u001b[0;36m<module>\u001b[1;34m()\u001b[0m\n\u001b[0;32m      1\u001b[0m \u001b[1;32mfor\u001b[0m \u001b[0mcontainer\u001b[0m \u001b[1;32min\u001b[0m \u001b[0mcontainers\u001b[0m\u001b[1;33m:\u001b[0m\u001b[1;33m\u001b[0m\u001b[0m\n\u001b[1;32m----> 2\u001b[1;33m     \u001b[0mbrand\u001b[0m \u001b[1;33m=\u001b[0m \u001b[0mcontainer\u001b[0m\u001b[1;33m.\u001b[0m\u001b[0mdiv\u001b[0m\u001b[1;33m.\u001b[0m\u001b[0mdiv\u001b[0m\u001b[1;33m.\u001b[0m\u001b[0ma\u001b[0m\u001b[1;33m.\u001b[0m\u001b[0mimg\u001b[0m\u001b[1;33m[\u001b[0m\u001b[1;34m\"title\"\u001b[0m\u001b[1;33m]\u001b[0m\u001b[1;33m\u001b[0m\u001b[0m\n\u001b[0m\u001b[0;32m      3\u001b[0m \u001b[1;33m\u001b[0m\u001b[0m\n\u001b[0;32m      4\u001b[0m     \u001b[0mtitle_container\u001b[0m \u001b[1;33m=\u001b[0m \u001b[0mcontainer\u001b[0m\u001b[1;33m.\u001b[0m\u001b[0mfindAll\u001b[0m\u001b[1;33m(\u001b[0m\u001b[1;34m'a'\u001b[0m\u001b[1;33m,\u001b[0m \u001b[1;33m{\u001b[0m\u001b[1;34m'class'\u001b[0m\u001b[1;33m:\u001b[0m \u001b[1;34m'item-title'\u001b[0m\u001b[1;33m}\u001b[0m\u001b[1;33m)\u001b[0m\u001b[1;33m\u001b[0m\u001b[0m\n\u001b[0;32m      5\u001b[0m     \u001b[0mproduct_name\u001b[0m \u001b[1;33m=\u001b[0m \u001b[0mtitle_container\u001b[0m\u001b[1;33m[\u001b[0m\u001b[1;36m0\u001b[0m\u001b[1;33m]\u001b[0m\u001b[1;33m.\u001b[0m\u001b[0mtext\u001b[0m\u001b[1;33m\u001b[0m\u001b[0m\n",
      "\u001b[1;31mAttributeError\u001b[0m: 'NoneType' object has no attribute 'img'"
     ]
    }
   ],
   "source": [
    "for container in containers:\n",
    "    brand = container.div.div.a.img[\"title\"]\n",
    "    \n",
    "    title_container = container.findAll('a', {'class': 'item-title'})\n",
    "    product_name = title_container[0].text\n",
    "    \n",
    "    shipping_container = container.findAll('li', {'class':'price-ship'})\n",
    "    shipping = shipping_container[0].text\n",
    "    \n",
    "    print('brand: ' + brand)\n",
    "    print('product_name: ' + product_name)\n",
    "    print('shipping: ' +shipping)\n",
    "    \n",
    "    f.write(brand + ',' + product_name.replace(',','|') + ',' +shipping + '\\n')\n",
    "\n",
    "f.close()"
   ]
  },
  {
   "cell_type": "code",
   "execution_count": null,
   "metadata": {
    "collapsed": true
   },
   "outputs": [],
   "source": [
    " "
   ]
  },
  {
   "cell_type": "code",
   "execution_count": null,
   "metadata": {
    "collapsed": true
   },
   "outputs": [],
   "source": []
  },
  {
   "cell_type": "code",
   "execution_count": null,
   "metadata": {
    "collapsed": true
   },
   "outputs": [],
   "source": []
  },
  {
   "cell_type": "code",
   "execution_count": null,
   "metadata": {
    "collapsed": true
   },
   "outputs": [],
   "source": []
  }
 ],
 "metadata": {
  "kernelspec": {
   "display_name": "Python 3",
   "language": "python",
   "name": "python3"
  },
  "language_info": {
   "codemirror_mode": {
    "name": "ipython",
    "version": 3
   },
   "file_extension": ".py",
   "mimetype": "text/x-python",
   "name": "python",
   "nbconvert_exporter": "python",
   "pygments_lexer": "ipython3",
   "version": "3.6.3"
  }
 },
 "nbformat": 4,
 "nbformat_minor": 2
}
